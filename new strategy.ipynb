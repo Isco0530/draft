{
 "cells": [
  {
   "cell_type": "code",
   "execution_count": 7,
   "metadata": {},
   "outputs": [],
   "source": [
    "import numpy as np\n",
    "import pandas as pd\n",
    "import warnings\n",
    "warnings.filterwarnings('ignore')"
   ]
  },
  {
   "cell_type": "code",
   "execution_count": 8,
   "metadata": {},
   "outputs": [],
   "source": [
    "class TEST():\n",
    "    def __init__(self,stock=0.5,bond=0.5,rebalance=0.55):\n",
    "        self.net_value=1\n",
    "        self.rebalance_record={} #调仓记录\n",
    "        self.rebalance_ratio={'stock':stock,'bond':bond}\n",
    "        self.threshold=rebalance\n",
    "        self.stock_ratio=stock\n",
    "        self.bond_ratio=bond\n",
    "        self.balance={}\n",
    "        \n",
    "    def check(self):\n",
    "        return self.stock_ratio>=self.threshold or self.bond_ratio>=self.threshold\n",
    "    \n",
    "    def rebalance(self):\n",
    "        self.stock_ratio=self.rebalance_ratio['stock']\n",
    "        self.bond_ratio=self.rebalance_ratio['bond']\n",
    "        \n",
    "    def calculate(self,data):\n",
    "        self.stock_net=self.net_value * self.stock_ratio *(1+data['stock']/100)\n",
    "        self.bond_net=self.net_value * self.bond_ratio *(1+data['bond']/100)\n",
    "        self.net_value=self.stock_net+self.bond_net\n",
    "        self.stock_ratio=self.stock_net/self.net_value\n",
    "        self.bond_ratio=self.bond_net/self.net_value\n",
    "        self.balance[data.date]=self.net_value\n",
    "    \n",
    "    def trade(self,data):\n",
    "        self.calculate(data)\n",
    "        if self.check():\n",
    "            self.rebalance_record[data.date]={'stock':self.stock_ratio,'bond':self.bond_ratio}\n",
    "            self.rebalance()\n",
    "        else:\n",
    "            pass\n",
    "        return pd.Series({'stock_ratio':self.stock_ratio,'bond_ratio':self.bond_ratio,\\\n",
    "                          'stock_net':self.stock_net,'bond_net':self.bond_net})\n",
    "                "
   ]
  },
  {
   "cell_type": "code",
   "execution_count": 9,
   "metadata": {},
   "outputs": [
    {
     "data": {
      "text/html": [
       "<div>\n",
       "<style scoped>\n",
       "    .dataframe tbody tr th:only-of-type {\n",
       "        vertical-align: middle;\n",
       "    }\n",
       "\n",
       "    .dataframe tbody tr th {\n",
       "        vertical-align: top;\n",
       "    }\n",
       "\n",
       "    .dataframe thead th {\n",
       "        text-align: right;\n",
       "    }\n",
       "</style>\n",
       "<table border=\"1\" class=\"dataframe\">\n",
       "  <thead>\n",
       "    <tr style=\"text-align: right;\">\n",
       "      <th></th>\n",
       "      <th>stock_ratio</th>\n",
       "      <th>bond_ratio</th>\n",
       "      <th>stock_net</th>\n",
       "      <th>bond_net</th>\n",
       "    </tr>\n",
       "    <tr>\n",
       "      <th>date</th>\n",
       "      <th></th>\n",
       "      <th></th>\n",
       "      <th></th>\n",
       "      <th></th>\n",
       "    </tr>\n",
       "  </thead>\n",
       "  <tbody>\n",
       "    <tr>\n",
       "      <th>2013-03-26</th>\n",
       "      <td>0.498401</td>\n",
       "      <td>0.501599</td>\n",
       "      <td>0.498017</td>\n",
       "      <td>0.501212</td>\n",
       "    </tr>\n",
       "    <tr>\n",
       "      <th>2013-03-27</th>\n",
       "      <td>0.498746</td>\n",
       "      <td>0.501254</td>\n",
       "      <td>0.498584</td>\n",
       "      <td>0.501091</td>\n",
       "    </tr>\n",
       "    <tr>\n",
       "      <th>2013-03-28</th>\n",
       "      <td>0.491349</td>\n",
       "      <td>0.508651</td>\n",
       "      <td>0.484561</td>\n",
       "      <td>0.501624</td>\n",
       "    </tr>\n",
       "    <tr>\n",
       "      <th>2013-03-29</th>\n",
       "      <td>0.491239</td>\n",
       "      <td>0.508761</td>\n",
       "      <td>0.484845</td>\n",
       "      <td>0.502138</td>\n",
       "    </tr>\n",
       "    <tr>\n",
       "      <th>2013-04-01</th>\n",
       "      <td>0.493068</td>\n",
       "      <td>0.506932</td>\n",
       "      <td>0.488952</td>\n",
       "      <td>0.502701</td>\n",
       "    </tr>\n",
       "  </tbody>\n",
       "</table>\n",
       "</div>"
      ],
      "text/plain": [
       "            stock_ratio  bond_ratio  stock_net  bond_net\n",
       "date                                                    \n",
       "2013-03-26     0.498401    0.501599   0.498017  0.501212\n",
       "2013-03-27     0.498746    0.501254   0.498584  0.501091\n",
       "2013-03-28     0.491349    0.508651   0.484561  0.501624\n",
       "2013-03-29     0.491239    0.508761   0.484845  0.502138\n",
       "2013-04-01     0.493068    0.506932   0.488952  0.502701"
      ]
     },
     "execution_count": 9,
     "metadata": {},
     "output_type": "execute_result"
    }
   ],
   "source": [
    "realdata=pd.read_excel('tickdata.xlsx',sheetname='Sheet1')\n",
    "a=TEST()\n",
    "total=realdata.apply(a.trade,axis=1,result_type='expand')\n",
    "total.index=realdata.date\n",
    "total.head()"
   ]
  },
  {
   "cell_type": "code",
   "execution_count": 10,
   "metadata": {},
   "outputs": [
    {
     "data": {
      "text/html": [
       "<div>\n",
       "<style scoped>\n",
       "    .dataframe tbody tr th:only-of-type {\n",
       "        vertical-align: middle;\n",
       "    }\n",
       "\n",
       "    .dataframe tbody tr th {\n",
       "        vertical-align: top;\n",
       "    }\n",
       "\n",
       "    .dataframe thead th {\n",
       "        text-align: right;\n",
       "    }\n",
       "</style>\n",
       "<table border=\"1\" class=\"dataframe\">\n",
       "  <thead>\n",
       "    <tr style=\"text-align: right;\">\n",
       "      <th></th>\n",
       "      <th>bond</th>\n",
       "      <th>stock</th>\n",
       "    </tr>\n",
       "  </thead>\n",
       "  <tbody>\n",
       "    <tr>\n",
       "      <th>2014-08-11</th>\n",
       "      <td>0.448353</td>\n",
       "      <td>0.551647</td>\n",
       "    </tr>\n",
       "    <tr>\n",
       "      <th>2014-12-15</th>\n",
       "      <td>0.449299</td>\n",
       "      <td>0.550701</td>\n",
       "    </tr>\n",
       "    <tr>\n",
       "      <th>2015-03-23</th>\n",
       "      <td>0.449570</td>\n",
       "      <td>0.550430</td>\n",
       "    </tr>\n",
       "    <tr>\n",
       "      <th>2015-05-13</th>\n",
       "      <td>0.448173</td>\n",
       "      <td>0.551827</td>\n",
       "    </tr>\n",
       "    <tr>\n",
       "      <th>2015-06-02</th>\n",
       "      <td>0.444598</td>\n",
       "      <td>0.555402</td>\n",
       "    </tr>\n",
       "  </tbody>\n",
       "</table>\n",
       "</div>"
      ],
      "text/plain": [
       "                bond     stock\n",
       "2014-08-11  0.448353  0.551647\n",
       "2014-12-15  0.449299  0.550701\n",
       "2015-03-23  0.449570  0.550430\n",
       "2015-05-13  0.448173  0.551827\n",
       "2015-06-02  0.444598  0.555402"
      ]
     },
     "execution_count": 10,
     "metadata": {},
     "output_type": "execute_result"
    }
   ],
   "source": [
    "rebalance_record = pd.DataFrame(a.rebalance_record).T\n",
    "rebalance_record.head()"
   ]
  },
  {
   "cell_type": "code",
   "execution_count": 11,
   "metadata": {},
   "outputs": [
    {
     "data": {
      "text/plain": [
       "2013-03-26    0.999229\n",
       "2013-03-27    0.999675\n",
       "2013-03-28    0.986185\n",
       "2013-03-29    0.986982\n",
       "2013-04-01    0.991653\n",
       "Name: strategy, dtype: float64"
      ]
     },
     "execution_count": 11,
     "metadata": {},
     "output_type": "execute_result"
    }
   ],
   "source": [
    "net_value = pd.Series(a.balance, name='strategy')\n",
    "net_value.head()"
   ]
  },
  {
   "cell_type": "code",
   "execution_count": 12,
   "metadata": {},
   "outputs": [
    {
     "data": {
      "text/html": [
       "<div>\n",
       "<style scoped>\n",
       "    .dataframe tbody tr th:only-of-type {\n",
       "        vertical-align: middle;\n",
       "    }\n",
       "\n",
       "    .dataframe tbody tr th {\n",
       "        vertical-align: top;\n",
       "    }\n",
       "\n",
       "    .dataframe thead th {\n",
       "        text-align: right;\n",
       "    }\n",
       "</style>\n",
       "<table border=\"1\" class=\"dataframe\">\n",
       "  <thead>\n",
       "    <tr style=\"text-align: right;\">\n",
       "      <th></th>\n",
       "      <th>cum</th>\n",
       "    </tr>\n",
       "    <tr>\n",
       "      <th>date</th>\n",
       "      <th></th>\n",
       "    </tr>\n",
       "  </thead>\n",
       "  <tbody>\n",
       "    <tr>\n",
       "      <th>2013-03-26</th>\n",
       "      <td>0.985440</td>\n",
       "    </tr>\n",
       "    <tr>\n",
       "      <th>2013-03-27</th>\n",
       "      <td>0.988685</td>\n",
       "    </tr>\n",
       "    <tr>\n",
       "      <th>2013-03-28</th>\n",
       "      <td>0.956452</td>\n",
       "    </tr>\n",
       "    <tr>\n",
       "      <th>2013-03-29</th>\n",
       "      <td>0.954837</td>\n",
       "    </tr>\n",
       "    <tr>\n",
       "      <th>2013-04-01</th>\n",
       "      <td>0.954112</td>\n",
       "    </tr>\n",
       "  </tbody>\n",
       "</table>\n",
       "</div>"
      ],
      "text/plain": [
       "                 cum\n",
       "date                \n",
       "2013-03-26  0.985440\n",
       "2013-03-27  0.988685\n",
       "2013-03-28  0.956452\n",
       "2013-03-29  0.954837\n",
       "2013-04-01  0.954112"
      ]
     },
     "execution_count": 12,
     "metadata": {},
     "output_type": "execute_result"
    }
   ],
   "source": [
    "hs300=pd.read_excel('tickdata.xlsx',sheetname='Sheet2')\n",
    "hs300['cum']=(hs300['hs300']/100+1).cumprod()\n",
    "hs300.drop(columns='hs300',inplace=True)\n",
    "hs300.set_index('date',inplace=True)\n",
    "hs300.head()"
   ]
  },
  {
   "cell_type": "code",
   "execution_count": 13,
   "metadata": {},
   "outputs": [
    {
     "data": {
      "text/html": [
       "<div>\n",
       "<style scoped>\n",
       "    .dataframe tbody tr th:only-of-type {\n",
       "        vertical-align: middle;\n",
       "    }\n",
       "\n",
       "    .dataframe tbody tr th {\n",
       "        vertical-align: top;\n",
       "    }\n",
       "\n",
       "    .dataframe thead th {\n",
       "        text-align: right;\n",
       "    }\n",
       "</style>\n",
       "<table border=\"1\" class=\"dataframe\">\n",
       "  <thead>\n",
       "    <tr style=\"text-align: right;\">\n",
       "      <th></th>\n",
       "      <th>strategy</th>\n",
       "      <th>hs300</th>\n",
       "    </tr>\n",
       "  </thead>\n",
       "  <tbody>\n",
       "    <tr>\n",
       "      <th>2013-03-26</th>\n",
       "      <td>0.999229</td>\n",
       "      <td>0.985440</td>\n",
       "    </tr>\n",
       "    <tr>\n",
       "      <th>2013-03-27</th>\n",
       "      <td>0.999675</td>\n",
       "      <td>0.988685</td>\n",
       "    </tr>\n",
       "    <tr>\n",
       "      <th>2013-03-28</th>\n",
       "      <td>0.986185</td>\n",
       "      <td>0.956452</td>\n",
       "    </tr>\n",
       "    <tr>\n",
       "      <th>2013-03-29</th>\n",
       "      <td>0.986982</td>\n",
       "      <td>0.954837</td>\n",
       "    </tr>\n",
       "    <tr>\n",
       "      <th>2013-04-01</th>\n",
       "      <td>0.991653</td>\n",
       "      <td>0.954112</td>\n",
       "    </tr>\n",
       "  </tbody>\n",
       "</table>\n",
       "</div>"
      ],
      "text/plain": [
       "            strategy     hs300\n",
       "2013-03-26  0.999229  0.985440\n",
       "2013-03-27  0.999675  0.988685\n",
       "2013-03-28  0.986185  0.956452\n",
       "2013-03-29  0.986982  0.954837\n",
       "2013-04-01  0.991653  0.954112"
      ]
     },
     "execution_count": 13,
     "metadata": {},
     "output_type": "execute_result"
    }
   ],
   "source": [
    "result=pd.concat([net_value,hs300],axis=1)\n",
    "result.rename(columns={'cum':\"hs300\"},inplace=True)\n",
    "result.head()"
   ]
  },
  {
   "cell_type": "code",
   "execution_count": 15,
   "metadata": {},
   "outputs": [
    {
     "data": {
      "image/png": "[encoded data removed]",
      "text/plain": [
       "<Figure size 936x648 with 1 Axes>"
      ]
     },
     "metadata": {
      "needs_background": "light"
     },
     "output_type": "display_data"
    }
   ],
   "source": [
    "import seaborn as sns\n",
    "import matplotlib.pyplot as plt\n",
    "result.plot(figsize=(13,9))\n",
    "plt.xticks(rotation=45) \n",
    "plt.show()"
   ]
  },
  {
   "cell_type": "code",
   "execution_count": null,
   "metadata": {},
   "outputs": [],
   "source": []
  }
 ],
 "metadata": {
  "kernelspec": {
   "display_name": "Python 3",
   "language": "python",
   "name": "python3"
  },
  "language_info": {
   "codemirror_mode": {
    "name": "ipython",
    "version": 3
   },
   "file_extension": ".py",
   "mimetype": "text/x-python",
   "name": "python",
   "nbconvert_exporter": "python",
   "pygments_lexer": "ipython3",
   "version": "3.7.3"
  }
 },
 "nbformat": 4,
 "nbformat_minor": 2
}
