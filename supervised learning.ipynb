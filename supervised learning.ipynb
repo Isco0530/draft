{
 "cells": [
  {
   "cell_type": "code",
   "execution_count": null,
   "metadata": {},
   "outputs": [],
   "source": [
    "import warnings;warnings.simplefilter('ignore')\n",
    "from sklearn.datasets import load_iris\n",
    "iris = load_iris()\n",
    "x = iris.data\n",
    "y = iris.target\n",
    "#读取iris数据 判断0，1，2三分类 \n",
    "#主要运用 KNN, logistic Regression 进行预测"
   ]
  },
  {
   "cell_type": "code",
   "execution_count": 1,
   "metadata": {},
   "outputs": [],
   "source": [
    "from sklearn.datasets import load_breast_cancer\n",
    "breast = load_breast_cancer()\n",
    "x=breast.data\n",
    "y=breast.target\n",
    "#读取breast数据 判断肿瘤良性还是恶性 二分类"
   ]
  },
  {
   "cell_type": "code",
   "execution_count": null,
   "metadata": {},
   "outputs": [],
   "source": [
    "from sklearn.datasets import load_boston\n",
    "boston=load_boston()\n",
    "x=boston.data\n",
    "y=boston.target\n",
    "#读取boston房价数据 进行回归预测"
   ]
  },
  {
   "cell_type": "code",
   "execution_count": 2,
   "metadata": {},
   "outputs": [],
   "source": [
    "from sklearn.model_selection import train_test_split\n",
    "x_train, x_test, y_train, y_test = train_test_split(x, y, test_size=0.6, random_state=9)\n",
    "#将数据随机分割成训练集和测试集"
   ]
  },
  {
   "cell_type": "code",
   "execution_count": null,
   "metadata": {},
   "outputs": [],
   "source": [
    "from sklearn.neighbors import KNeighborsClassifier\n",
    "knn = KNeighborsClassifier(n_neighbors=3)\n",
    "knn.fit(x_train, y_train)\n",
    "y_pred = knn.predict(x_test)\n",
    "from sklearn import metrics\n",
    "print(metrics.accuracy_score(y_test, y_pred))\n",
    "#KNN近邻为K时进行分类"
   ]
  },
  {
   "cell_type": "code",
   "execution_count": null,
   "metadata": {},
   "outputs": [],
   "source": [
    "from sklearn.linear_model import LogisticRegression\n",
    "lr = LogisticRegression(C=1)\n",
    "lr.fit(x_train,y_train)\n",
    "y_pred_train=lr.predict(x_train)\n",
    "y_pred=lr.predict(x_test)\n",
    "print(\"train score:\" +str(metrics.accuracy_score(y_train,y_pred_train)))\n",
    "print(\"test score:\" +str(metrics.accuracy_score(y_test,y_pred)))\n",
    "#运用逻辑回归进行分类"
   ]
  },
  {
   "cell_type": "code",
   "execution_count": null,
   "metadata": {},
   "outputs": [],
   "source": [
    "from sklearn.svm import LinearSVC\n",
    "SVC=LinearSVC(C=1)\n",
    "SVC.fit(x_train,y_train)\n",
    "y_pred=SVC.predict(x_test)\n",
    "metrics.accuracy_score(y_test,y_pred)\n",
    "#运用支持向量机进行分类"
   ]
  },
  {
   "cell_type": "code",
   "execution_count": null,
   "metadata": {},
   "outputs": [],
   "source": [
    "from sklearn.naive_bayes import GaussianNB\n",
    "GNB=GaussianNB()\n",
    "GNB.fit(x_train,y_train)\n",
    "y_pred=GNB.predict(x_test)\n",
    "metrics.accuracy_score(y_test,y_pred)\n",
    "#运用朴素贝叶斯进行分类"
   ]
  },
  {
   "cell_type": "code",
   "execution_count": null,
   "metadata": {},
   "outputs": [],
   "source": [
    "import numpy as np\n",
    "scores=[]\n",
    "for k in np.arange(1,21):\n",
    "    knn = KNeighborsClassifier(n_neighbors=k)\n",
    "    knn.fit(x_train,y_train)\n",
    "    y_pred=knn.predict(x_test)\n",
    "    scores.append(metrics.accuracy_score(y_test,y_pred))\n",
    "print(scores)\n",
    "#寻找最优K"
   ]
  },
  {
   "cell_type": "code",
   "execution_count": null,
   "metadata": {},
   "outputs": [],
   "source": [
    "import pandas as pd\n",
    "import matplotlib.pyplot as plt\n",
    "plt.plot(np.arange(1,21),scores)"
   ]
  },
  {
   "cell_type": "code",
   "execution_count": null,
   "metadata": {},
   "outputs": [],
   "source": [
    "from sklearn.linear_model import LinearRegression\n",
    "from sklearn import metrics\n",
    "from sklearn.metrics import mean_squared_error, r2_score\n",
    "lir = LinearRegression()\n",
    "lir.fit(x_train,y_train)\n",
    "y_pred=lir.predict(x_test)\n",
    "print(r2_score(y_test,y_pred))\n",
    "#线性回归进行回归预测"
   ]
  },
  {
   "cell_type": "code",
   "execution_count": null,
   "metadata": {},
   "outputs": [],
   "source": [
    "import numpy as np\n",
    "scores=[]\n",
    "for i in np.arange(0,13):\n",
    "    bostonpd=pd.DataFrame(boston.data)\n",
    "    x=bostonpd.drop(columns=[i])\n",
    "    y=boston.target\n",
    "    x_train, x_test, y_train, y_test = train_test_split(x, y, test_size=0.6, random_state=9)\n",
    "    lir=LinearRegression()\n",
    "    lir.fit(x_train,y_train)\n",
    "    y_pred=lir.predict(x_test)\n",
    "    scores.append(r2_score(y_test,y_pred))\n",
    "scores"
   ]
  },
  {
   "cell_type": "code",
   "execution_count": null,
   "metadata": {},
   "outputs": [],
   "source": [
    "import seaborn as sns\n",
    "x=pd.DataFrame(boston.data)\n",
    "y=pd.DataFrame(boston.target)\n",
    "x['13']=y\n",
    "x\n",
    "g=sns.pairplot(x, x_vars=[0,1,2], y_vars='13', size=7,aspect=0.7,kind='reg')"
   ]
  },
  {
   "cell_type": "code",
   "execution_count": null,
   "metadata": {},
   "outputs": [],
   "source": [
    "import numpy as np\n",
    "from sklearn.tree import DecisionTreeClassifier\n",
    "from sklearn import metrics\n",
    "scores=[]\n",
    "for k in np.arange(1,10):    \n",
    "    tree=DecisionTreeClassifier(random_state=4,max_depth=k)\n",
    "    tree.fit(x_train,y_train)\n",
    "    y_pred=tree.predict(x_test)\n",
    "    scores.append(metrics.accuracy_score(y_test,y_pred))\n",
    "scores\n",
    "#利用决策树进行分类,关键参数max_depth"
   ]
  },
  {
   "cell_type": "code",
   "execution_count": null,
   "metadata": {},
   "outputs": [],
   "source": [
    "tree.feature_importances_\n",
    "#特征重要性"
   ]
  },
  {
   "cell_type": "code",
   "execution_count": 22,
   "metadata": {},
   "outputs": [
    {
     "name": "stdout",
     "output_type": "stream",
     "text": [
      "0.956140350877193\n",
      "1.0\n"
     ]
    }
   ],
   "source": [
    "from sklearn.ensemble import RandomForestClassifier\n",
    "from sklearn import metrics\n",
    "RFC = RandomForestClassifier(n_estimators=100)\n",
    "RFC.fit(x_train,y_train)\n",
    "y_pred=RFC.predict(x_test)\n",
    "y_train_pred=RFC.predict(x_train)\n",
    "print(metrics.accuracy_score(y_test,y_pred))\n",
    "print(metrics.accuracy_score(y_train,y_train_pred))\n",
    "#利用随即森林进行分类，关键参数n_estimators越大越好降低过拟合"
   ]
  },
  {
   "cell_type": "code",
   "execution_count": 35,
   "metadata": {},
   "outputs": [
    {
     "name": "stdout",
     "output_type": "stream",
     "text": [
      "0.9824561403508771\n",
      "1.0\n"
     ]
    }
   ],
   "source": [
    "from sklearn.ensemble import GradientBoostingClassifier\n",
    "from sklearn import metrics\n",
    "GBC=GradientBoostingClassifier(max_depth=1,learning_rate=0.25)\n",
    "GBC.fit(x_train,y_train)\n",
    "y_pred=GBC.predict(x_test)\n",
    "y_train_pred=GBC.predict(x_train)\n",
    "print(metrics.accuracy_score(y_test,y_pred))\n",
    "print(metrics.accuracy_score(y_train,y_train_pred))\n",
    "#利用梯度提升机进行分类，关键参数n_estimator,max_depth,learning_rate"
   ]
  },
  {
   "cell_type": "code",
   "execution_count": null,
   "metadata": {},
   "outputs": [],
   "source": []
  }
 ],
 "metadata": {
  "kernelspec": {
   "display_name": "Python 3",
   "language": "python",
   "name": "python3"
  },
  "language_info": {
   "codemirror_mode": {
    "name": "ipython",
    "version": 3
   },
   "file_extension": ".py",
   "mimetype": "text/x-python",
   "name": "python",
   "nbconvert_exporter": "python",
   "pygments_lexer": "ipython3",
   "version": "3.7.3"
  }
 },
 "nbformat": 4,
 "nbformat_minor": 2
}
