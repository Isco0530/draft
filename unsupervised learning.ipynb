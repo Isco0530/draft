{
 "cells": [
  {
   "cell_type": "code",
   "execution_count": 2,
   "metadata": {},
   "outputs": [],
   "source": [
    "import warnings;warnings.simplefilter('ignore')\n",
    "from sklearn.datasets import load_breast_cancer\n",
    "breast = load_breast_cancer()\n",
    "x=breast.data\n",
    "y=breast.target\n",
    "#读取breast cancer数据 判断肿瘤良性还是恶性 30特征，2分类"
   ]
  },
  {
   "cell_type": "code",
   "execution_count": 3,
   "metadata": {},
   "outputs": [],
   "source": [
    "from sklearn.model_selection import train_test_split\n",
    "x_train, x_test, y_train, y_test = train_test_split(x, y, test_size=0.25, random_state=9)\n",
    "#将数据随机分割成训练集和测试集"
   ]
  },
  {
   "cell_type": "markdown",
   "metadata": {},
   "source": [
    "# 1.1预处理与缩放"
   ]
  },
  {
   "cell_type": "code",
   "execution_count": 4,
   "metadata": {},
   "outputs": [],
   "source": [
    "from sklearn.preprocessing import MinMaxScaler\n",
    "scaler=MinMaxScaler()\n",
    "scaler.fit(x_train)#fit方法计算每个特征的最大值和最小值\n",
    "x_train_scaled=scaler.transform(x_train)#transform方法进行实际缩放"
   ]
  },
  {
   "cell_type": "code",
   "execution_count": 13,
   "metadata": {},
   "outputs": [],
   "source": [
    "from sklearn.preprocessing import MinMaxScaler\n",
    "scaler=MinMaxScaler()\n",
    "x_train_scaled=scaler.fit_transform(x_train)#合并一步缩放"
   ]
  },
  {
   "cell_type": "markdown",
   "metadata": {},
   "source": [
    "为了让监督模型能够在测试集上运行，对训练集和测试集应用完全相同的变换是很重要的."
   ]
  },
  {
   "cell_type": "markdown",
   "metadata": {},
   "source": [
    "预处理对监督学习的作用"
   ]
  },
  {
   "cell_type": "code",
   "execution_count": 15,
   "metadata": {},
   "outputs": [
    {
     "name": "stdout",
     "output_type": "stream",
     "text": [
      "train score:1.0\n",
      "test score:0.6271929824561403\n"
     ]
    }
   ],
   "source": [
    "import warnings;warnings.simplefilter('ignore')\n",
    "from sklearn.datasets import load_breast_cancer\n",
    "breast = load_breast_cancer()\n",
    "x=breast.data\n",
    "y=breast.target\n",
    "#读取breast cancer数据 判断肿瘤良性还是恶性 30特征，2分类\n",
    "from sklearn.model_selection import train_test_split\n",
    "x_train, x_test, y_train, y_test = train_test_split(x, y, test_size=0.4, random_state=9)\n",
    "#将数据随机分割成训练集和测试集\n",
    "from sklearn.svm import SVC\n",
    "from sklearn import metrics\n",
    "svm=SVC(kernel='rbf')\n",
    "svm.fit(x_train,y_train)\n",
    "y_pred=svm.predict(x_test)\n",
    "y_train_pred=svm.predict(x_train)\n",
    "print(\"train score:\"+str(svm.score(x_train,y_train)))\n",
    "print(\"test score:\"+str(svm.score(x_test,y_test)))"
   ]
  },
  {
   "cell_type": "code",
   "execution_count": 16,
   "metadata": {},
   "outputs": [
    {
     "name": "stdout",
     "output_type": "stream",
     "text": [
      "train score:0.9442815249266863\n",
      "test score:0.956140350877193\n"
     ]
    }
   ],
   "source": [
    "from sklearn.preprocessing import MinMaxScaler\n",
    "scaler=MinMaxScaler()\n",
    "scaler.fit(x_train)#fit方法计算每个特征的最大值和最小值\n",
    "x_train_scaled=scaler.transform(x_train)#transform方法进行实际缩放\n",
    "x_test_scaled=scaler.transform(x_test)\n",
    "svm.fit(x_train_scaled,y_train)\n",
    "print(\"train score:\"+str(svm.score(x_train_scaled,y_train)))\n",
    "print(\"test score:\"+str(svm.score(x_test_scaled,y_test)))"
   ]
  },
  {
   "cell_type": "markdown",
   "metadata": {},
   "source": [
    "预处理算法有很多种，但它们具有相同的接口，都包含fit和transform方法"
   ]
  },
  {
   "cell_type": "markdown",
   "metadata": {},
   "source": [
    "# 1.2降维，特征提取与流形学习"
   ]
  },
  {
   "cell_type": "markdown",
   "metadata": {},
   "source": [
    "# 1.2.1主成分分析"
   ]
  },
  {
   "cell_type": "code",
   "execution_count": 2,
   "metadata": {},
   "outputs": [],
   "source": [
    "import warnings;warnings.simplefilter('ignore')\n",
    "from sklearn.datasets import load_breast_cancer\n",
    "breast = load_breast_cancer()\n",
    "x=breast.data\n",
    "y=breast.target\n",
    "#读取breast cancer数据 判断肿瘤良性还是恶性 30特征，2分类\n",
    "from sklearn.preprocessing import StandardScaler\n",
    "scaler=StandardScaler()\n",
    "scaler.fit(x)\n",
    "x_scaled=scaler.transform(x)\n",
    "#缩放数据"
   ]
  },
  {
   "cell_type": "code",
   "execution_count": 3,
   "metadata": {},
   "outputs": [
    {
     "name": "stdout",
     "output_type": "stream",
     "text": [
      "original shape(569, 30)\n",
      "reduced shape(569, 30)\n"
     ]
    }
   ],
   "source": [
    "print(\"original shape\"+str(x.shape))\n",
    "print(\"reduced shape\"+str(x_scaled.shape))"
   ]
  },
  {
   "cell_type": "code",
   "execution_count": 4,
   "metadata": {},
   "outputs": [],
   "source": [
    "from sklearn.decomposition import PCA\n",
    "pca=PCA(n_components=2)#保留数据的前两个主成分\n",
    "pca.fit(x_scaled)\n",
    "x_pca=pca.transform(x_scaled)"
   ]
  },
  {
   "cell_type": "code",
   "execution_count": 6,
   "metadata": {},
   "outputs": [
    {
     "name": "stdout",
     "output_type": "stream",
     "text": [
      "original shape(569, 30)\n",
      "reduced shape(569, 2)\n"
     ]
    }
   ],
   "source": [
    "print(\"original shape\"+str(x_scaled.shape))\n",
    "print(\"reduced shape\"+str(x_pca.shape))"
   ]
  },
  {
   "cell_type": "code",
   "execution_count": 7,
   "metadata": {},
   "outputs": [
    {
     "data": {
      "text/plain": [
       "array([[ 0.21890244,  0.10372458,  0.22753729,  0.22099499,  0.14258969,\n",
       "         0.23928535,  0.25840048,  0.26085376,  0.13816696,  0.06436335,\n",
       "         0.20597878,  0.01742803,  0.21132592,  0.20286964,  0.01453145,\n",
       "         0.17039345,  0.15358979,  0.1834174 ,  0.04249842,  0.10256832,\n",
       "         0.22799663,  0.10446933,  0.23663968,  0.22487053,  0.12795256,\n",
       "         0.21009588,  0.22876753,  0.25088597,  0.12290456,  0.13178394],\n",
       "       [-0.23385713, -0.05970609, -0.21518136, -0.23107671,  0.18611302,\n",
       "         0.15189161,  0.06016536, -0.0347675 ,  0.19034877,  0.36657547,\n",
       "        -0.10555215,  0.08997968, -0.08945723, -0.15229263,  0.20443045,\n",
       "         0.2327159 ,  0.19720728,  0.13032156,  0.183848  ,  0.28009203,\n",
       "        -0.21986638, -0.0454673 , -0.19987843, -0.21935186,  0.17230435,\n",
       "         0.14359317,  0.09796411, -0.00825724,  0.14188335,  0.27533947]])"
      ]
     },
     "execution_count": 7,
     "metadata": {},
     "output_type": "execute_result"
    }
   ],
   "source": [
    "pca.components_"
   ]
  },
  {
   "cell_type": "markdown",
   "metadata": {},
   "source": [
    "1.2.2非负矩阵分解"
   ]
  },
  {
   "cell_type": "markdown",
   "metadata": {},
   "source": [
    "1.2.3t-SNE进行流形学习"
   ]
  },
  {
   "cell_type": "markdown",
   "metadata": {},
   "source": [
    "# 1.3聚类"
   ]
  },
  {
   "cell_type": "markdown",
   "metadata": {},
   "source": [
    "聚类是将数据集划分成组的任务,这些组叫作簇,其目标是划分数据,使得一个簇内的数据点非常相似且不同簇内的数据点非常不同"
   ]
  },
  {
   "cell_type": "markdown",
   "metadata": {},
   "source": [
    "# 1.3.1k均值聚类"
   ]
  },
  {
   "cell_type": "code",
   "execution_count": 1,
   "metadata": {},
   "outputs": [],
   "source": [
    "from sklearn.datasets import make_blobs\n",
    "x,y=make_blobs(n_samples=1000,random_state=1,centers=4)\n",
    "#创建数据集 关键参数样本数量，中心"
   ]
  },
  {
   "cell_type": "code",
   "execution_count": null,
   "metadata": {},
   "outputs": [],
   "source": [
    "import pandas as pd \n",
    "xpd=pd.DataFrame(x)"
   ]
  },
  {
   "cell_type": "code",
   "execution_count": 36,
   "metadata": {},
   "outputs": [
    {
     "data": {
      "text/plain": [
       "<matplotlib.collections.PathCollection at 0xff4b330>"
      ]
     },
     "execution_count": 36,
     "metadata": {},
     "output_type": "execute_result"
    },
    {
     "data": {
      "image/png": "[encoded data removed]",
      "text/plain": [
       "<Figure size 432x288 with 1 Axes>"
      ]
     },
     "metadata": {
      "needs_background": "light"
     },
     "output_type": "display_data"
    }
   ],
   "source": [
    "import matplotlib.pyplot as plt\n",
    "plt.scatter(xpd.iloc[:,0],xpd.iloc[:,1])"
   ]
  },
  {
   "cell_type": "code",
   "execution_count": null,
   "metadata": {},
   "outputs": [],
   "source": [
    "from sklearn.cluster import KMeans\n",
    "kmeans=KMeans(n_clusters=3)\n",
    "kmeans.fit(xpd)\n",
    "#k均值聚类\n",
    "kmeans.labels_"
   ]
  },
  {
   "cell_type": "code",
   "execution_count": 42,
   "metadata": {},
   "outputs": [],
   "source": [
    "ypd=pd.DataFrame(kmeans.labels_)"
   ]
  },
  {
   "cell_type": "code",
   "execution_count": null,
   "metadata": {},
   "outputs": [],
   "source": [
    "import numpy as np\n",
    "xzong=pd.concat([xpd,ypd],axis=1)\n",
    "xzong.columns=np.arange(0,3)\n",
    "xzong"
   ]
  },
  {
   "cell_type": "code",
   "execution_count": 49,
   "metadata": {},
   "outputs": [],
   "source": [
    "x0=xzong[xzong[2]==0]\n",
    "x1=xzong[xzong[2]==1]\n",
    "x2=xzong[xzong[2]==2]"
   ]
  },
  {
   "cell_type": "code",
   "execution_count": 51,
   "metadata": {},
   "outputs": [
    {
     "data": {
      "image/png": "[encoded data removed]",
      "text/plain": [
       "<Figure size 432x288 with 1 Axes>"
      ]
     },
     "metadata": {
      "needs_background": "light"
     },
     "output_type": "display_data"
    }
   ],
   "source": [
    "plt.scatter(x0.iloc[:,0],x0.iloc[:,1],c='red')\n",
    "plt.scatter(x1.iloc[:,0],x1.iloc[:,1],c='blue')\n",
    "plt.scatter(x2.iloc[:,0],x2.iloc[:,1],c='green')\n",
    "plt.show()"
   ]
  },
  {
   "cell_type": "markdown",
   "metadata": {},
   "source": [
    "k均值是非常流行的聚类算法，不仅相对容易理解和实现，而且运行速度也相对较快\n",
    "k均值缺点之一在于依赖于随机初始化，对簇形状的假设的约束性较强，而且还要求指定所要寻找的簇的个数（现实世界中这个数字不一定知道）"
   ]
  },
  {
   "cell_type": "markdown",
   "metadata": {},
   "source": [
    "# 1.3.2凝聚聚类"
   ]
  },
  {
   "cell_type": "code",
   "execution_count": 2,
   "metadata": {},
   "outputs": [],
   "source": [
    "from sklearn.datasets import make_blobs\n",
    "x,y=make_blobs(n_samples=200,random_state=1,centers=3)\n",
    "#创建数据集 关键参数样本数量，中心"
   ]
  },
  {
   "cell_type": "code",
   "execution_count": 53,
   "metadata": {},
   "outputs": [
    {
     "data": {
      "text/plain": [
       "<matplotlib.collections.PathCollection at 0x108437f0>"
      ]
     },
     "execution_count": 53,
     "metadata": {},
     "output_type": "execute_result"
    },
    {
     "data": {
      "image/png": "[encoded data removed]",
      "text/plain": [
       "<Figure size 432x288 with 1 Axes>"
      ]
     },
     "metadata": {
      "needs_background": "light"
     },
     "output_type": "display_data"
    }
   ],
   "source": [
    "import pandas as pd \n",
    "xpd=pd.DataFrame(x)\n",
    "import matplotlib.pyplot as plt\n",
    "plt.scatter(xpd.iloc[:,0],xpd.iloc[:,1])"
   ]
  },
  {
   "cell_type": "code",
   "execution_count": 54,
   "metadata": {},
   "outputs": [
    {
     "data": {
      "text/plain": [
       "array([0, 2, 0, 2, 0, 0, 1, 0, 1, 2, 0, 2, 2, 2, 0, 2, 2, 0, 1, 2, 0, 0,\n",
       "       2, 1, 1, 1, 1, 2, 0, 0, 0, 0, 2, 2, 0, 2, 2, 2, 0, 2, 1, 1, 0, 1,\n",
       "       0, 2, 1, 0, 2, 1, 2, 0, 1, 1, 2, 1, 1, 2, 2, 2, 0, 0, 1, 0, 2, 0,\n",
       "       0, 1, 2, 2, 1, 2, 2, 2, 0, 0, 1, 2, 2, 0, 2, 1, 2, 0, 2, 0, 1, 1,\n",
       "       1, 0, 0, 1, 0, 2, 2, 0, 1, 2, 0, 1, 0, 1, 1, 0, 1, 1, 2, 1, 1, 0,\n",
       "       1, 2, 2, 2, 2, 0, 0, 0, 1, 0, 0, 2, 2, 1, 1, 0, 2, 0, 1, 0, 1, 1,\n",
       "       0, 0, 0, 1, 1, 0, 2, 0, 1, 2, 0, 0, 0, 1, 0, 1, 1, 1, 1, 2, 0, 1,\n",
       "       1, 1, 2, 1, 1, 0, 0, 1, 0, 2, 1, 2, 0, 2, 2, 1, 0, 1, 1, 2, 1, 0,\n",
       "       2, 1, 1, 0, 2, 0, 1, 2, 2, 0, 0, 0, 2, 1, 2, 2, 1, 0, 2, 2, 1, 1,\n",
       "       2, 1], dtype=int32)"
      ]
     },
     "execution_count": 54,
     "metadata": {},
     "output_type": "execute_result"
    }
   ],
   "source": [
    "from sklearn.cluster import AgglomerativeClustering\n",
    "agg=AgglomerativeClustering(n_clusters=3)\n",
    "agg.fit_predict(x)\n",
    "agg.labels_"
   ]
  },
  {
   "cell_type": "code",
   "execution_count": 59,
   "metadata": {},
   "outputs": [
    {
     "data": {
      "image/png": "[encoded data removed]",
      "text/plain": [
       "<Figure size 432x288 with 1 Axes>"
      ]
     },
     "metadata": {
      "needs_background": "light"
     },
     "output_type": "display_data"
    }
   ],
   "source": [
    "ypd=pd.DataFrame(agg.labels_)\n",
    "zong=pd.concat([xpd,ypd],axis=1)\n",
    "zong.columns=np.arange(0,3)\n",
    "#zong\n",
    "x0=zong[zong[2]==0]\n",
    "x1=zong[zong[2]==1]\n",
    "x2=zong[zong[2]==2]\n",
    "plt.scatter(x0.iloc[:,0],x0.iloc[:,1],c='red')\n",
    "plt.scatter(x1.iloc[:,0],x1.iloc[:,1],c='blue')\n",
    "plt.scatter(x2.iloc[:,0],x2.iloc[:,1],c='green')\n",
    "plt.show()"
   ]
  },
  {
   "cell_type": "code",
   "execution_count": 4,
   "metadata": {},
   "outputs": [
    {
     "data": {
      "text/plain": [
       "Text(0, 0.5, 'Cluster distance')"
      ]
     },
     "execution_count": 4,
     "metadata": {},
     "output_type": "execute_result"
    },
    {
     "data": {
      "image/png": "[encoded data removed]",
      "text/plain": [
       "<Figure size 432x288 with 1 Axes>"
      ]
     },
     "metadata": {
      "needs_background": "light"
     },
     "output_type": "display_data"
    }
   ],
   "source": [
    "import matplotlib.pyplot as plt\n",
    "from scipy.cluster.hierarchy import dendrogram, ward\n",
    "#从scipy中导入dendrogram和ward聚类函数\n",
    "X, y = make_blobs(random_state=0, n_samples=12)\n",
    "#将ward聚类应用于数据数组x\n",
    "#scipy的ward函数返回一个数组，指定执行凝聚聚类时跨越的距离\n",
    "#绘制树状图\n",
    "linkage_array = ward(X)\n",
    "dendrogram(linkage_array)\n",
    "\n",
    "# mark the cuts in the tree that signify two or three clusters\n",
    "#plt.rcParams['figure.figsize']=[20,10]\n",
    "ax = plt.gca()\n",
    "bounds = ax.get_xbound()\n",
    "ax.plot(bounds, [7.25, 7.25], '--', c='k')\n",
    "ax.plot(bounds, [4, 4], '--', c='k')\n",
    "\n",
    "ax.text(bounds[1], 7.25, ' two clusters', va='center', fontdict={'size': 15})\n",
    "ax.text(bounds[1], 4, ' three clusters', va='center', fontdict={'size': 15})\n",
    "plt.xlabel(\"Sample index\")\n",
    "plt.ylabel(\"Cluster distance\")"
   ]
  },
  {
   "cell_type": "code",
   "execution_count": 6,
   "metadata": {},
   "outputs": [
    {
     "data": {
      "text/plain": [
       "array([1, 0, 2, 0, 0, 1, 1, 2, 0, 2, 2, 1])"
      ]
     },
     "execution_count": 6,
     "metadata": {},
     "output_type": "execute_result"
    }
   ],
   "source": [
    "y"
   ]
  },
  {
   "cell_type": "markdown",
   "metadata": {},
   "source": [
    "树状图的y轴不仅说明凝聚算法中两个簇何时合并，每个分支的长度还表示被合并的簇之间的距离\n",
    "不幸的是凝聚聚类仍然无法分离two_moons数据集这样复杂的形状"
   ]
  },
  {
   "cell_type": "markdown",
   "metadata": {},
   "source": [
    "# 1.3.3DBSCAN(具有噪声的基于密度的空间聚类应用)"
   ]
  },
  {
   "cell_type": "markdown",
   "metadata": {},
   "source": [
    "DBSCAN有两个参数：min_samples,eps。如果在距一个给定数据点eps的距离内至少有min_samples个数据点，那么这个数据点就是核心样本。DBSCAN将彼此距离小于eps的核心样本放到一个簇中"
   ]
  },
  {
   "cell_type": "code",
   "execution_count": 76,
   "metadata": {},
   "outputs": [
    {
     "data": {
      "text/plain": [
       "array([-1, -1, -1, -1, -1, -1, -1, -1, -1, -1, -1, -1], dtype=int32)"
      ]
     },
     "execution_count": 76,
     "metadata": {},
     "output_type": "execute_result"
    }
   ],
   "source": [
    "from sklearn.cluster import DBSCAN\n",
    "x,y=make_blobs(random_state=0,n_samples=12)\n",
    "dbscan=DBSCAN()\n",
    "clusters=dbscan.fit_predict(x)\n",
    "clusters"
   ]
  },
  {
   "cell_type": "markdown",
   "metadata": {},
   "source": [
    "所有数据点都被分配了标签-1，这代表噪声，这是eps和min_samples默认参数设置的结果"
   ]
  },
  {
   "cell_type": "code",
   "execution_count": 77,
   "metadata": {},
   "outputs": [
    {
     "data": {
      "text/plain": [
       "array([0, 1, 1, 1, 1, 0, 0, 0, 1, 0, 0, 0], dtype=int32)"
      ]
     },
     "execution_count": 77,
     "metadata": {},
     "output_type": "execute_result"
    }
   ],
   "source": [
    "dbscan=DBSCAN(eps=2,min_samples=2)\n",
    "clusters=dbscan.fit_predict(x)\n",
    "clusters"
   ]
  },
  {
   "cell_type": "markdown",
   "metadata": {},
   "source": [
    "使用StandardScaler或MinMaxScaler数据进行缩放之后，有时会更容易找到eps的较好取值。在使用DBSCAN时，你需要谨慎处理返回的簇分类，如果使用簇标签对另一个数据进行索引，那么使用-1表示噪声可能产生意料之外的结果"
   ]
  },
  {
   "cell_type": "code",
   "execution_count": 4,
   "metadata": {},
   "outputs": [
    {
     "data": {
      "text/plain": [
       "<matplotlib.collections.PathCollection at 0x8dee290>"
      ]
     },
     "execution_count": 4,
     "metadata": {},
     "output_type": "execute_result"
    },
    {
     "data": {
      "image/png": "[encoded data removed]",
      "text/plain": [
       "<Figure size 432x288 with 1 Axes>"
      ]
     },
     "metadata": {
      "needs_background": "light"
     },
     "output_type": "display_data"
    }
   ],
   "source": [
    "#实例分离复杂数据形状\n",
    "import pandas as pd\n",
    "import matplotlib.pyplot as plt\n",
    "from sklearn.datasets import make_moons\n",
    "x,y=make_moons(n_samples=200,random_state=0,noise=0.05)\n",
    "x1=pd.DataFrame(x)\n",
    "plt.scatter(x1.iloc[:,0],x1.iloc[:,1])"
   ]
  },
  {
   "cell_type": "code",
   "execution_count": 9,
   "metadata": {},
   "outputs": [
    {
     "data": {
      "text/plain": [
       "<matplotlib.collections.PathCollection at 0x92c0d70>"
      ]
     },
     "execution_count": 9,
     "metadata": {},
     "output_type": "execute_result"
    },
    {
     "data": {
      "image/png": "[encoded data removed]",
      "text/plain": [
       "<Figure size 432x288 with 1 Axes>"
      ]
     },
     "metadata": {
      "needs_background": "light"
     },
     "output_type": "display_data"
    }
   ],
   "source": [
    "from sklearn.preprocessing import StandardScaler\n",
    "scaler=StandardScaler()\n",
    "x_scaled=scaler.fit_transform(x)\n",
    "from sklearn.cluster import DBSCAN\n",
    "dbscan=DBSCAN()\n",
    "clusters=dbscan.fit_predict(x_scaled)\n",
    "y1=pd.DataFrame(clusters)\n",
    "z=pd.concat([x1,y1],axis=1)\n",
    "z.columns=[0,1,'number']\n",
    "d=pd.read_excel('oct002.xls',sheet_name='color')\n",
    "p=z.merge(d,on='number',how='left')\n",
    "p\n",
    "plt.scatter(p.iloc[:,0],p.iloc[:,1],c=p.iloc[:,3])"
   ]
  },
  {
   "cell_type": "markdown",
   "metadata": {},
   "source": [
    "# 聚类实例"
   ]
  },
  {
   "cell_type": "code",
   "execution_count": 122,
   "metadata": {},
   "outputs": [
    {
     "data": {
      "text/plain": [
       "array([0, 1, 2, 3, 4, 5, 6, 5, 5, 7, 5, 5, 5, 5, 5, 5, 5, 5, 5, 5, 8, 5,\n",
       "       5, 5, 5, 5, 5, 5, 5, 5, 5], dtype=int32)"
      ]
     },
     "execution_count": 122,
     "metadata": {},
     "output_type": "execute_result"
    }
   ],
   "source": [
    "import pandas as pd\n",
    "data=pd.read_excel('oct002.xls',sheet_name='db')\n",
    "x=data.iloc[:,1:3]\n",
    "#数据缩放方法一\n",
    "# from sklearn.preprocessing import MinMaxScaler\n",
    "# scaler=MinMaxScaler()\n",
    "# x_scaled=scaler.fit_transform(x)#合并一步缩放\n",
    "#数据缩放方法二\n",
    "from sklearn.preprocessing import StandardScaler\n",
    "scaler=StandardScaler()\n",
    "x_scaled=scaler.fit_transform(x)\n",
    "#聚类方法一DBSCAN\n",
    "from sklearn.cluster import DBSCAN\n",
    "dbscan=DBSCAN(eps=0.48,min_samples=1)\n",
    "clusters=dbscan.fit_predict(x_scaled)\n",
    "clusters"
   ]
  },
  {
   "cell_type": "code",
   "execution_count": 127,
   "metadata": {},
   "outputs": [
    {
     "data": {
      "text/plain": [
       "<matplotlib.collections.PathCollection at 0xd591210>"
      ]
     },
     "execution_count": 127,
     "metadata": {},
     "output_type": "execute_result"
    },
    {
     "data": {
      "image/png": "[encoded data removed]",
      "text/plain": [
       "<Figure size 432x288 with 1 Axes>"
      ]
     },
     "metadata": {
      "needs_background": "light"
     },
     "output_type": "display_data"
    }
   ],
   "source": [
    "y=pd.DataFrame(clusters)\n",
    "z=pd.concat([x,y],axis=1)\n",
    "z.columns=['fg','lf','number']\n",
    "d=pd.read_excel('oct002.xls',sheet_name='color')\n",
    "p=z.merge(d,on='number',how='left')\n",
    "p\n",
    "plt.scatter(p.iloc[:,0],p.iloc[:,1],c=p.iloc[:,3])"
   ]
  },
  {
   "cell_type": "code",
   "execution_count": 125,
   "metadata": {},
   "outputs": [
    {
     "data": {
      "text/plain": [
       "array([3, 3, 1, 6, 1, 4, 1, 4, 2, 0, 2, 4, 2, 2, 4, 4, 4, 2, 2, 2, 0, 7,\n",
       "       2, 7, 7, 7, 5, 5, 5, 5, 7], dtype=int32)"
      ]
     },
     "execution_count": 125,
     "metadata": {},
     "output_type": "execute_result"
    }
   ],
   "source": [
    "#聚类方法二凝聚聚类\n",
    "from sklearn.cluster import AgglomerativeClustering\n",
    "agg=AgglomerativeClustering(n_clusters=8)\n",
    "agg.fit_predict(x_scaled)\n",
    "agg.labels_"
   ]
  },
  {
   "cell_type": "code",
   "execution_count": 126,
   "metadata": {},
   "outputs": [
    {
     "data": {
      "text/plain": [
       "<matplotlib.collections.PathCollection at 0xcb5cf10>"
      ]
     },
     "execution_count": 126,
     "metadata": {},
     "output_type": "execute_result"
    },
    {
     "data": {
      "image/png": "[encoded data removed]",
      "text/plain": [
       "<Figure size 432x288 with 1 Axes>"
      ]
     },
     "metadata": {
      "needs_background": "light"
     },
     "output_type": "display_data"
    }
   ],
   "source": [
    "y=pd.DataFrame(agg.labels_)\n",
    "z=pd.concat([x,y],axis=1)\n",
    "z.columns=['fg','lf','number']\n",
    "d=pd.read_excel('oct002.xls',sheet_name='color')\n",
    "p=z.merge(d,on='number',how='left')\n",
    "p\n",
    "plt.scatter(p.iloc[:,0],p.iloc[:,1],c=p.iloc[:,3])"
   ]
  },
  {
   "cell_type": "code",
   "execution_count": null,
   "metadata": {},
   "outputs": [],
   "source": []
  }
 ],
 "metadata": {
  "kernelspec": {
   "display_name": "Python 3",
   "language": "python",
   "name": "python3"
  },
  "language_info": {
   "codemirror_mode": {
    "name": "ipython",
    "version": 3
   },
   "file_extension": ".py",
   "mimetype": "text/x-python",
   "name": "python",
   "nbconvert_exporter": "python",
   "pygments_lexer": "ipython3",
   "version": "3.7.3"
  }
 },
 "nbformat": 4,
 "nbformat_minor": 2
}
